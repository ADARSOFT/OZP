{
 "cells": [
  {
   "cell_type": "markdown",
   "metadata": {},
   "source": [
    "# Numpy"
   ]
  },
  {
   "cell_type": "code",
   "execution_count": 26,
   "metadata": {},
   "outputs": [
    {
     "name": "stdout",
     "output_type": "stream",
     "text": [
      "[3 4 5]\n",
      "[4 6 6]\n",
      "8\n",
      "8\n",
      "[  2   7  11   4 555   2   1   1   2]\n"
     ]
    }
   ],
   "source": [
    "import numpy as np\n",
    "\n",
    "my_list = [3,2,5,7,11,4]\n",
    "\n",
    "# Kreirana nova lista Numpy iz obicne\n",
    "my_np_array = np.array(my_list)\n",
    "\n",
    "# Unosenje novog clana ako ne postoji, odnosno update ako postoji\n",
    "new_list = np.insert(my_np_array, 6, 555)\n",
    "\n",
    "# Append\n",
    "new_list = np.append(new_list,2)\n",
    "new_list = np.append(new_list,[1,1,2])\n",
    "new_list = np.delete(new_list, [0,2])\n",
    "\n",
    "# Vectors\n",
    "\n",
    "my_npa_1 = np.array([2,3,3])\n",
    "my_npa_2 = np.array([1,1])\n",
    "my_npa_3 = np.array([1,1,2])\n",
    "\n",
    "    # Sabiranje vektora\n",
    "print(my_npa_1 + my_npa_3)\n",
    "    \n",
    "    # Mnozenje skalarnih vektora\n",
    "print(my_npa_1 * 2)\n",
    "\n",
    "    # Dot product\n",
    "A=np.array([2,3])\n",
    "B=np.array([1,2])\n",
    "\n",
    "print(A.dot(B))\n",
    "print(np.sum(A*B))\n",
    "print(new_list)"
   ]
  },
  {
   "cell_type": "code",
   "execution_count": null,
   "metadata": {},
   "outputs": [],
   "source": []
  }
 ],
 "metadata": {
  "kernelspec": {
   "display_name": "Python 3",
   "language": "python",
   "name": "python3"
  },
  "language_info": {
   "codemirror_mode": {
    "name": "ipython",
    "version": 3
   },
   "file_extension": ".py",
   "mimetype": "text/x-python",
   "name": "python",
   "nbconvert_exporter": "python",
   "pygments_lexer": "ipython3",
   "version": "3.7.1"
  }
 },
 "nbformat": 4,
 "nbformat_minor": 2
}
