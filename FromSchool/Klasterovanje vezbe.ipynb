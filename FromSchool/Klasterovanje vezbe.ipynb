{
 "cells": [
  {
   "cell_type": "code",
   "execution_count": 1,
   "metadata": {},
   "outputs": [
    {
     "name": "stdout",
     "output_type": "stream",
     "text": [
      "Collecting pydataset\n",
      "  Downloading https://files.pythonhosted.org/packages/4f/15/548792a1bb9caf6a3affd61c64d306b08c63c8a5a49e2c2d931b67ec2108/pydataset-0.2.0.tar.gz (15.9MB)\n",
      "Requirement already satisfied: pandas in c:\\programdata\\anaconda3\\lib\\site-packages (from pydataset) (0.23.4)\n",
      "Requirement already satisfied: python-dateutil>=2.5.0 in c:\\programdata\\anaconda3\\lib\\site-packages (from pandas->pydataset) (2.7.5)\n",
      "Requirement already satisfied: pytz>=2011k in c:\\programdata\\anaconda3\\lib\\site-packages (from pandas->pydataset) (2018.7)\n",
      "Requirement already satisfied: numpy>=1.9.0 in c:\\programdata\\anaconda3\\lib\\site-packages (from pandas->pydataset) (1.15.4)\n",
      "Requirement already satisfied: six>=1.5 in c:\\programdata\\anaconda3\\lib\\site-packages (from python-dateutil>=2.5.0->pandas->pydataset) (1.12.0)\n",
      "Building wheels for collected packages: pydataset\n",
      "  Running setup.py bdist_wheel for pydataset: started\n",
      "  Running setup.py bdist_wheel for pydataset: finished with status 'done'\n",
      "  Stored in directory: C:\\Users\\damir.pajaziti\\AppData\\Local\\pip\\Cache\\wheels\\fe\\3f\\dc\\5d02ccc767317191b12d042dd920fcf3432fab74bc7978598b\n",
      "Successfully built pydataset\n",
      "Installing collected packages: pydataset\n",
      "Successfully installed pydataset-0.2.0\n"
     ]
    }
   ],
   "source": [
    "!pip install pydataset\n",
    "\n",
    "\n",
    "\n",
    "\n",
    "\n",
    "\n",
    "\n",
    "\n",
    "\n"
   ]
  },
  {
   "cell_type": "code",
   "execution_count": 22,
   "metadata": {},
   "outputs": [
    {
     "name": "stdout",
     "output_type": "stream",
     "text": [
      "KMeans(algorithm='auto', copy_x=True, init='k-means++', max_iter=100,\n",
      "    n_clusters=3, n_init=10, n_jobs=None, precompute_distances='auto',\n",
      "    random_state=None, tol=0.0001, verbose=0)\n"
     ]
    },
    {
     "name": "stderr",
     "output_type": "stream",
     "text": [
      "C:\\ProgramData\\Anaconda3\\lib\\site-packages\\sklearn\\preprocessing\\data.py:323: DataConversionWarning: Data with input dtype int64 were all converted to float64 by MinMaxScaler.\n",
      "  return self.partial_fit(X, y)\n"
     ]
    },
    {
     "data": {
      "text/plain": [
       "<matplotlib.collections.PathCollection at 0x179bf3c0ef0>"
      ]
     },
     "execution_count": 22,
     "metadata": {},
     "output_type": "execute_result"
    },
    {
     "data": {
      "image/png": "[encoded data removed]",
      "text/plain": [
       "<Figure size 432x288 with 1 Axes>"
      ]
     },
     "metadata": {
      "needs_background": "light"
     },
     "output_type": "display_data"
    }
   ],
   "source": [
    "import pandas as pd \n",
    "import numpy as np\n",
    "from pydataset import data\n",
    "from matplotlib import pyplot as plt\n",
    "\n",
    "age = [18, 21, 22, 24, 26, 26, 27, 30, 31, 35, 39, 40, 41, 42, 44, 46, 47, 48, 49, 54]\n",
    "salary = [10000, 11000, 22000, 15000, 12000, 13000, 14000, 33000, 39000, 37000, 44000, 27000, 29000, 20000, 28000, 21000, 30000, 31000, 23000, 24000]\n",
    "\n",
    "# Kreiramo jedan vektor\n",
    "\n",
    "df = pd.DataFrame({'Age': age, 'Salary': salary})\n",
    "# print(df.head())\n",
    "\n",
    "# Prima 2 kontinualna niza scatter plot - dijagram sa tackicama\n",
    "plt.scatter(age, salary)\n",
    "plt.title('Market data')\n",
    "plt.xlabel('Age')\n",
    "plt.ylabel('Salary')\n",
    "\n",
    "# Import kmeans\n",
    "from sklearn.cluster import KMeans\n",
    "\n",
    "kmeans_algorithm = KMeans(n_clusters = 3, max_iter = 100)\n",
    "\n",
    "print(kmeans_algorithm)\n",
    "\n",
    "cluster_model = kmeans_algorithm.fit(df)\n",
    "# uzmi centroide\n",
    "cluster_model.cluster_centers_\n",
    "\n",
    "# dodeljivanje klastera\n",
    "clusters = cluster_model.predict(df)\n",
    "\n",
    "df['Cluster'] = clusters\n",
    "\n",
    "df.head()\n",
    "\n",
    "# mapiranje moja na plot \n",
    "    # kreiranje mape\n",
    "cluster_map = {0:'g', 1:'b', 2:'r'}\n",
    "    # list comprehention (za svaku vrednost iz cluster-a nadji mapu neko slovo i vrati)\n",
    "cluster_color = [cluster_map[i] for i in df.Cluster]\n",
    "\n",
    "# primeniti boje na ploter\n",
    "plt.close()\n",
    "plt.scatter(df.Age, df.Salary, c = cluster_color, label = df.Cluster)\n",
    "\n",
    "centers = cluster_model.cluster_centers_\n",
    "# kreiramo  novi scatter\n",
    "plt.scatter(centers[:,0], centers[:,1], marker = '+', s = 200, c = 'black')\n",
    "\n",
    "# Normalizacija sklearn (min max scaler)\n",
    "\n",
    "from sklearn.preprocessing import MinMaxScaler\n",
    "\n",
    "df_normalized = df.loc[:, ['Age','Salary']]\n",
    "\n",
    "scaler = MinMaxScaler()\n",
    "\n",
    "scaler.fit(df_normalized)\n",
    "\n",
    "df_normalized = scaler.transform(df_normalized)\n",
    "\n",
    "# type(df_normalized)\n",
    "\n",
    "k_means_norm = kmeans_algorithm.fit(df_normalized)\n",
    "        # izvlacimo model (to su centroidi)\n",
    "centers_norm = k_means_norm.cluster_centers_\n",
    "\n",
    "df_normalized = pd.DataFrame(df_normalized, columns = ['Age', 'Salary'])\n",
    "\n",
    "clusters_n = k_means_norm.predict(df_normalized)\n",
    "\n",
    "colors_norm = [cluster_map[i] for i in clusters_n]\n",
    "\n",
    "plt.close()\n",
    "plt.scatter(df_normalized.Age, df_normalized.Salary, c = colors_norm)\n",
    "\n",
    "\n"
   ]
  },
  {
   "cell_type": "code",
   "execution_count": 24,
   "metadata": {},
   "outputs": [
    {
     "name": "stdout",
     "output_type": "stream",
     "text": [
      "    Age  Salary\n",
      "0    18   10000\n",
      "1    21   11000\n",
      "2    22   22000\n",
      "3    24   15000\n",
      "4    26   12000\n",
      "5    26   13000\n",
      "6    27   14000\n",
      "7    30   33000\n",
      "8    31   39000\n",
      "9    35   37000\n",
      "10   39   44000\n",
      "11   40   27000\n",
      "12   41   29000\n",
      "13   42   20000\n",
      "14   44   28000\n",
      "15   46   21000\n",
      "16   47   30000\n",
      "17   48   31000\n",
      "18   49   23000\n",
      "19   54   24000\n"
     ]
    }
   ],
   "source": [
    "df = df.loc[:, ['Age', 'Salary']]\n",
    "print(df)"
   ]
  },
  {
   "cell_type": "code",
   "execution_count": 30,
   "metadata": {},
   "outputs": [
    {
     "data": {
      "text/plain": [
       "<matplotlib.collections.PathCollection at 0x179bfa26518>"
      ]
     },
     "execution_count": 30,
     "metadata": {},
     "output_type": "execute_result"
    },
    {
     "data": {
      "image/png": "[encoded data removed]",
      "text/plain": [
       "<Figure size 432x288 with 1 Axes>"
      ]
     },
     "metadata": {
      "needs_background": "light"
     },
     "output_type": "display_data"
    }
   ],
   "source": [
    "# dodati novi outlier\n",
    "\n",
    "df = df.append({'Age': 20,'Salary': 80000}, ignore_index = True)\n",
    "\n",
    "plt.close()\n",
    "plt.scatter(df.Age, df.Salary)"
   ]
  },
  {
   "cell_type": "code",
   "execution_count": null,
   "metadata": {},
   "outputs": [],
   "source": []
  },
  {
   "cell_type": "code",
   "execution_count": null,
   "metadata": {},
   "outputs": [],
   "source": []
  },
  {
   "cell_type": "code",
   "execution_count": null,
   "metadata": {},
   "outputs": [],
   "source": []
  }
 ],
 "metadata": {
  "kernelspec": {
   "display_name": "Python 3",
   "language": "python",
   "name": "python3"
  },
  "language_info": {
   "codemirror_mode": {
    "name": "ipython",
    "version": 3
   },
   "file_extension": ".py",
   "mimetype": "text/x-python",
   "name": "python",
   "nbconvert_exporter": "python",
   "pygments_lexer": "ipython3",
   "version": "3.7.1"
  }
 },
 "nbformat": 4,
 "nbformat_minor": 2
}
