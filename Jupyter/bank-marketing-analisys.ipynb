{
 "cells": [
  {
   "cell_type": "markdown",
   "metadata": {},
   "source": [
    "# 1. Ucitati skup podataka koji je dodeljen vasem timu"
   ]
  },
  {
   "cell_type": "code",
   "execution_count": 24,
   "metadata": {},
   "outputs": [],
   "source": [
    "\n",
    "import numpy as np\n",
    "import pandas as pd \n",
    "from sklearn.neighbors import KNeighborsClassifier as KNN\n",
    "from sklearn.linear_model import LogisticRegression\n",
    "from sklearn.preprocessing import LabelEncoder\n",
    "from scipy import stats\n",
    "from sklearn.preprocessing import MinMaxScaler\n",
    "from sklearn.preprocessing import StandardScaler\n",
    "from sklearn import preprocessing \n",
    "from sklearn.model_selection import train_test_split\n",
    "import seaborn as sns\n",
    "import matplotlib.pyplot as plt; plt.rcdefaults()\n",
    "import matplotlib.pyplot as plt\n",
    "from sklearn.decomposition import PCA\n",
    "from sklearn.pipeline import Pipeline\n",
    "from sklearn.cluster import KMeans\n",
    "from sklearn import metrics"
   ]
  },
  {
   "cell_type": "code",
   "execution_count": 25,
   "metadata": {},
   "outputs": [],
   "source": [
    "bank_marketing = pd.read_csv(\"../Data/master-data/bank-additional.csv\", sep = \";\")\n",
    "\n",
    "categoric_columns = [\"job\", \"marital\", \"education\", \"default\", \"housing\", \"loan\", \"contact\", \"month\", \"day_of_week\", \"poutcome\"]\n",
    "numeric_columns = [\"age\", \"duration\", \"campaign\", \"pdays\", \"previous\", \"emp.var.rate\", \"cons.price.idx\", \"cons.conf.idx\", \"euribor3m\", \"nr.employed\"]\n",
    "label_column = \"y\"\n",
    "label_codes = {'yes':1, 'no':0}\n",
    "label_codes_inverse = {1:'yes', 0:'no'}\n",
    "\n",
    "# Map from yes/no to 1/0\n",
    "bank_marketing[label_column] = bank_marketing[label_column].map(label_codes)\n",
    "\n",
    "# Separate source data\n",
    "label = bank_marketing[label_column]\n",
    "categoric_data = bank_marketing.loc[:, categoric_columns].copy()\n",
    "numeric_data = bank_marketing.loc[:, numeric_columns].copy()\n",
    "\n",
    "# Replace 999 with -1 for column pdays, for experiment purpose i will try with -1 and 999 both combinations\n",
    "numeric_data['pdays'] = numeric_data['pdays'].replace(999, -1) \n"
   ]
  },
  {
   "cell_type": "markdown",
   "metadata": {},
   "source": [
    "# 2. Prikazati deskriptivnu statistiku skupa podataka (tipovi podataka, rasponi vrednosti, nedostajuce vrednoti itd..)"
   ]
  },
  {
   "cell_type": "markdown",
   "metadata": {},
   "source": [
    "### UKUPAN BROJ JEDINSTVENIH VREDNOSTI ZA NUMERICKE KOLONE"
   ]
  },
  {
   "cell_type": "code",
   "execution_count": 10,
   "metadata": {},
   "outputs": [
    {
     "name": "stdout",
     "output_type": "stream",
     "text": [
      "age                67\n",
      "duration          828\n",
      "campaign           25\n",
      "pdays              21\n",
      "previous            7\n",
      "emp.var.rate       10\n",
      "cons.price.idx     26\n",
      "cons.conf.idx      27\n",
      "euribor3m         235\n",
      "nr.employed        12\n",
      "dtype: int64\n"
     ]
    }
   ],
   "source": [
    "print(numeric_data.nunique())"
   ]
  },
  {
   "cell_type": "markdown",
   "metadata": {},
   "source": [
    "### UKUPAN BROJ JEDINSTVENIH VREDNOSTI ZA KATEGORICKE KOLONE"
   ]
  },
  {
   "cell_type": "code",
   "execution_count": 11,
   "metadata": {},
   "outputs": [
    {
     "name": "stdout",
     "output_type": "stream",
     "text": [
      "job            12\n",
      "marital         4\n",
      "education       8\n",
      "default         3\n",
      "housing         3\n",
      "loan            3\n",
      "contact         2\n",
      "month          10\n",
      "day_of_week     5\n",
      "poutcome        3\n",
      "dtype: int64\n"
     ]
    }
   ],
   "source": [
    "print(categoric_data.nunique())"
   ]
  },
  {
   "cell_type": "markdown",
   "metadata": {},
   "source": [
    "### UKUPAN BROJ JEDINSTVENIH VREDNOSTI ZA IZLAZNU ZAVISNU KOLONU"
   ]
  },
  {
   "cell_type": "code",
   "execution_count": 14,
   "metadata": {},
   "outputs": [
    {
     "name": "stdout",
     "output_type": "stream",
     "text": [
      "2\n"
     ]
    }
   ],
   "source": [
    "print(label.nunique())"
   ]
  },
  {
   "cell_type": "markdown",
   "metadata": {},
   "source": [
    "### Prikaz tipova podataka za kategoricke kolone"
   ]
  },
  {
   "cell_type": "code",
   "execution_count": 16,
   "metadata": {},
   "outputs": [
    {
     "name": "stdout",
     "output_type": "stream",
     "text": [
      "<class 'pandas.core.frame.DataFrame'>\n",
      "RangeIndex: 4119 entries, 0 to 4118\n",
      "Data columns (total 10 columns):\n",
      "job            4119 non-null object\n",
      "marital        4119 non-null object\n",
      "education      4119 non-null object\n",
      "default        4119 non-null object\n",
      "housing        4119 non-null object\n",
      "loan           4119 non-null object\n",
      "contact        4119 non-null object\n",
      "month          4119 non-null object\n",
      "day_of_week    4119 non-null object\n",
      "poutcome       4119 non-null object\n",
      "dtypes: object(10)\n",
      "memory usage: 321.9+ KB\n"
     ]
    }
   ],
   "source": [
    "categoric_data.info()"
   ]
  },
  {
   "cell_type": "markdown",
   "metadata": {},
   "source": [
    "### Prikaza tipova podataka za numericke kolone (i prilagodjavanje istih)"
   ]
  },
  {
   "cell_type": "code",
   "execution_count": 15,
   "metadata": {},
   "outputs": [
    {
     "name": "stdout",
     "output_type": "stream",
     "text": [
      "<class 'pandas.core.frame.DataFrame'>\n",
      "RangeIndex: 4119 entries, 0 to 4118\n",
      "Data columns (total 10 columns):\n",
      "age               4119 non-null int64\n",
      "duration          4116 non-null float64\n",
      "campaign          4114 non-null float64\n",
      "pdays             4119 non-null int64\n",
      "previous          4117 non-null float64\n",
      "emp.var.rate      4116 non-null float64\n",
      "cons.price.idx    4117 non-null float64\n",
      "cons.conf.idx     4117 non-null float64\n",
      "euribor3m         4117 non-null float64\n",
      "nr.employed       4118 non-null object\n",
      "dtypes: float64(7), int64(2), object(1)\n",
      "memory usage: 321.9+ KB\n"
     ]
    }
   ],
   "source": [
    "numeric_data.info()"
   ]
  },
  {
   "cell_type": "markdown",
   "metadata": {},
   "source": [
    "Kolona nr.employed ima pogresan tip podataka, pa moramo da proverimo o cemu se radi"
   ]
  },
  {
   "cell_type": "code",
   "execution_count": 17,
   "metadata": {},
   "outputs": [
    {
     "data": {
      "text/plain": [
       "5228.1    1625\n",
       "5099.1     822\n",
       "5191       758\n",
       "5195.8     392\n",
       "5076.2     164\n",
       "5017.5     104\n",
       "4991.6      87\n",
       "4963.6      83\n",
       "5008.7      60\n",
       "5023.5      21\n",
       "5176.3       1\n",
       "no           1\n",
       "Name: nr.employed, dtype: int64"
      ]
     },
     "execution_count": 17,
     "metadata": {},
     "output_type": "execute_result"
    }
   ],
   "source": [
    "numeric_data['nr.employed'].value_counts()"
   ]
  },
  {
   "cell_type": "markdown",
   "metadata": {},
   "source": [
    "Primecujemo da postoji jedan zapis za pogresnim tipom podataka i ima vrednost 'no'. \n",
    "Zamenicemo taj zapis sa najucestalijom vrednoscu te kolone pomocu funkcije MODE, i konvertovacemo tip kolone na float64. "
   ]
  },
  {
   "cell_type": "code",
   "execution_count": 26,
   "metadata": {},
   "outputs": [
    {
     "data": {
      "text/plain": [
       "age                 int64\n",
       "duration          float64\n",
       "campaign          float64\n",
       "pdays               int64\n",
       "previous          float64\n",
       "emp.var.rate      float64\n",
       "cons.price.idx    float64\n",
       "cons.conf.idx     float64\n",
       "euribor3m         float64\n",
       "nr.employed       float64\n",
       "dtype: object"
      ]
     },
     "execution_count": 26,
     "metadata": {},
     "output_type": "execute_result"
    }
   ],
   "source": [
    "nr_employeed_mode = numeric_data['nr.employed'].mode()\n",
    "numeric_data[numeric_data['nr.employed'] == 'no'].index.values # row 780\n",
    "numeric_data['nr.employed'] = numeric_data['nr.employed'].replace('no', float(nr_employeed_mode[0])) \n",
    "numeric_data = numeric_data.astype({'nr.employed': 'float64'})\n",
    "numeric_data.dtypes"
   ]
  },
  {
   "cell_type": "code",
   "execution_count": 27,
   "metadata": {},
   "outputs": [
    {
     "data": {
      "text/html": [
       "<div>\n",
       "<style scoped>\n",
       "    .dataframe tbody tr th:only-of-type {\n",
       "        vertical-align: middle;\n",
       "    }\n",
       "\n",
       "    .dataframe tbody tr th {\n",
       "        vertical-align: top;\n",
       "    }\n",
       "\n",
       "    .dataframe thead th {\n",
       "        text-align: right;\n",
       "    }\n",
       "</style>\n",
       "<table border=\"1\" class=\"dataframe\">\n",
       "  <thead>\n",
       "    <tr style=\"text-align: right;\">\n",
       "      <th></th>\n",
       "      <th>no</th>\n",
       "      <th>nonexistent</th>\n",
       "      <th>yes</th>\n",
       "      <th>cellular</th>\n",
       "      <th>married</th>\n",
       "      <th>telephone</th>\n",
       "      <th>may</th>\n",
       "      <th>university.degree</th>\n",
       "      <th>unknown</th>\n",
       "      <th>single</th>\n",
       "      <th>...</th>\n",
       "      <th>entrepreneur</th>\n",
       "      <th>success</th>\n",
       "      <th>unemployed</th>\n",
       "      <th>housemaid</th>\n",
       "      <th>student</th>\n",
       "      <th>oct</th>\n",
       "      <th>sep</th>\n",
       "      <th>mar</th>\n",
       "      <th>dec</th>\n",
       "      <th>illiterate</th>\n",
       "    </tr>\n",
       "  </thead>\n",
       "  <tbody>\n",
       "    <tr>\n",
       "      <th>0</th>\n",
       "      <td>8503</td>\n",
       "      <td>3523</td>\n",
       "      <td>2841</td>\n",
       "      <td>2652</td>\n",
       "      <td>2509</td>\n",
       "      <td>1467</td>\n",
       "      <td>1378</td>\n",
       "      <td>1264</td>\n",
       "      <td>1230</td>\n",
       "      <td>1153</td>\n",
       "      <td>...</td>\n",
       "      <td>148</td>\n",
       "      <td>142</td>\n",
       "      <td>111</td>\n",
       "      <td>110</td>\n",
       "      <td>82</td>\n",
       "      <td>69</td>\n",
       "      <td>64</td>\n",
       "      <td>48</td>\n",
       "      <td>22</td>\n",
       "      <td>1</td>\n",
       "    </tr>\n",
       "  </tbody>\n",
       "</table>\n",
       "<p>1 rows × 44 columns</p>\n",
       "</div>"
      ],
      "text/plain": [
       "     no  nonexistent   yes  cellular  married  telephone   may  \\\n",
       "0  8503         3523  2841      2652     2509       1467  1378   \n",
       "\n",
       "   university.degree  unknown  single     ...      entrepreneur  success  \\\n",
       "0               1264     1230    1153     ...               148      142   \n",
       "\n",
       "   unemployed  housemaid  student  oct  sep  mar  dec  illiterate  \n",
       "0         111        110       82   69   64   48   22           1  \n",
       "\n",
       "[1 rows x 44 columns]"
      ]
     },
     "execution_count": 27,
     "metadata": {},
     "output_type": "execute_result"
    }
   ],
   "source": [
    "pd.DataFrame(pd.value_counts(categoric_data.values.flatten())).T"
   ]
  },
  {
   "cell_type": "markdown",
   "metadata": {},
   "source": [
    "### Prikaz tipova podataka za kategoricke kolone"
   ]
  },
  {
   "cell_type": "code",
   "execution_count": 30,
   "metadata": {},
   "outputs": [
    {
     "name": "stdout",
     "output_type": "stream",
     "text": [
      "<class 'pandas.core.frame.DataFrame'>\n",
      "RangeIndex: 4119 entries, 0 to 4118\n",
      "Data columns (total 10 columns):\n",
      "job            4119 non-null object\n",
      "marital        4119 non-null object\n",
      "education      4119 non-null object\n",
      "default        4119 non-null object\n",
      "housing        4119 non-null object\n",
      "loan           4119 non-null object\n",
      "contact        4119 non-null object\n",
      "month          4119 non-null object\n",
      "day_of_week    4119 non-null object\n",
      "poutcome       4119 non-null object\n",
      "dtypes: object(10)\n",
      "memory usage: 321.9+ KB\n"
     ]
    }
   ],
   "source": [
    "categoric_data.info()"
   ]
  },
  {
   "cell_type": "markdown",
   "metadata": {},
   "source": [
    "### Prikaz statistike za numericke podatke"
   ]
  },
  {
   "cell_type": "code",
   "execution_count": 34,
   "metadata": {},
   "outputs": [
    {
     "data": {
      "text/html": [
       "<div>\n",
       "<style scoped>\n",
       "    .dataframe tbody tr th:only-of-type {\n",
       "        vertical-align: middle;\n",
       "    }\n",
       "\n",
       "    .dataframe tbody tr th {\n",
       "        vertical-align: top;\n",
       "    }\n",
       "\n",
       "    .dataframe thead th {\n",
       "        text-align: right;\n",
       "    }\n",
       "</style>\n",
       "<table border=\"1\" class=\"dataframe\">\n",
       "  <thead>\n",
       "    <tr style=\"text-align: right;\">\n",
       "      <th></th>\n",
       "      <th>age</th>\n",
       "      <th>duration</th>\n",
       "      <th>campaign</th>\n",
       "      <th>pdays</th>\n",
       "      <th>previous</th>\n",
       "      <th>emp.var.rate</th>\n",
       "      <th>cons.price.idx</th>\n",
       "      <th>cons.conf.idx</th>\n",
       "      <th>euribor3m</th>\n",
       "      <th>nr.employed</th>\n",
       "    </tr>\n",
       "  </thead>\n",
       "  <tbody>\n",
       "    <tr>\n",
       "      <th>count</th>\n",
       "      <td>4119.000000</td>\n",
       "      <td>4116.000000</td>\n",
       "      <td>4114.000000</td>\n",
       "      <td>4119.000000</td>\n",
       "      <td>4117.000000</td>\n",
       "      <td>4116.000000</td>\n",
       "      <td>4117.000000</td>\n",
       "      <td>4117.000000</td>\n",
       "      <td>4117.000000</td>\n",
       "      <td>4118.000000</td>\n",
       "    </tr>\n",
       "    <tr>\n",
       "      <th>mean</th>\n",
       "      <td>40.113620</td>\n",
       "      <td>256.869048</td>\n",
       "      <td>2.534273</td>\n",
       "      <td>-0.733430</td>\n",
       "      <td>0.190430</td>\n",
       "      <td>0.084694</td>\n",
       "      <td>93.579540</td>\n",
       "      <td>-40.486358</td>\n",
       "      <td>4.858993</td>\n",
       "      <td>5166.498057</td>\n",
       "    </tr>\n",
       "    <tr>\n",
       "      <th>std</th>\n",
       "      <td>10.313362</td>\n",
       "      <td>254.763913</td>\n",
       "      <td>2.566673</td>\n",
       "      <td>1.532813</td>\n",
       "      <td>0.541904</td>\n",
       "      <td>1.563361</td>\n",
       "      <td>0.579442</td>\n",
       "      <td>4.639840</td>\n",
       "      <td>79.432456</td>\n",
       "      <td>73.669363</td>\n",
       "    </tr>\n",
       "    <tr>\n",
       "      <th>min</th>\n",
       "      <td>18.000000</td>\n",
       "      <td>0.000000</td>\n",
       "      <td>1.000000</td>\n",
       "      <td>-1.000000</td>\n",
       "      <td>0.000000</td>\n",
       "      <td>-3.400000</td>\n",
       "      <td>92.201000</td>\n",
       "      <td>-50.800000</td>\n",
       "      <td>0.635000</td>\n",
       "      <td>4963.600000</td>\n",
       "    </tr>\n",
       "    <tr>\n",
       "      <th>25%</th>\n",
       "      <td>32.000000</td>\n",
       "      <td>103.000000</td>\n",
       "      <td>1.000000</td>\n",
       "      <td>-1.000000</td>\n",
       "      <td>0.000000</td>\n",
       "      <td>-1.800000</td>\n",
       "      <td>93.075000</td>\n",
       "      <td>-42.700000</td>\n",
       "      <td>1.334000</td>\n",
       "      <td>5099.100000</td>\n",
       "    </tr>\n",
       "    <tr>\n",
       "      <th>50%</th>\n",
       "      <td>38.000000</td>\n",
       "      <td>181.000000</td>\n",
       "      <td>2.000000</td>\n",
       "      <td>-1.000000</td>\n",
       "      <td>0.000000</td>\n",
       "      <td>1.100000</td>\n",
       "      <td>93.749000</td>\n",
       "      <td>-41.800000</td>\n",
       "      <td>4.857000</td>\n",
       "      <td>5191.000000</td>\n",
       "    </tr>\n",
       "    <tr>\n",
       "      <th>75%</th>\n",
       "      <td>47.000000</td>\n",
       "      <td>317.250000</td>\n",
       "      <td>3.000000</td>\n",
       "      <td>-1.000000</td>\n",
       "      <td>0.000000</td>\n",
       "      <td>1.400000</td>\n",
       "      <td>93.994000</td>\n",
       "      <td>-36.400000</td>\n",
       "      <td>4.961000</td>\n",
       "      <td>5228.100000</td>\n",
       "    </tr>\n",
       "    <tr>\n",
       "      <th>max</th>\n",
       "      <td>88.000000</td>\n",
       "      <td>3643.000000</td>\n",
       "      <td>35.000000</td>\n",
       "      <td>21.000000</td>\n",
       "      <td>6.000000</td>\n",
       "      <td>1.400000</td>\n",
       "      <td>94.767000</td>\n",
       "      <td>1.266000</td>\n",
       "      <td>5099.100000</td>\n",
       "      <td>5228.100000</td>\n",
       "    </tr>\n",
       "  </tbody>\n",
       "</table>\n",
       "</div>"
      ],
      "text/plain": [
       "               age     duration     campaign        pdays     previous  \\\n",
       "count  4119.000000  4116.000000  4114.000000  4119.000000  4117.000000   \n",
       "mean     40.113620   256.869048     2.534273    -0.733430     0.190430   \n",
       "std      10.313362   254.763913     2.566673     1.532813     0.541904   \n",
       "min      18.000000     0.000000     1.000000    -1.000000     0.000000   \n",
       "25%      32.000000   103.000000     1.000000    -1.000000     0.000000   \n",
       "50%      38.000000   181.000000     2.000000    -1.000000     0.000000   \n",
       "75%      47.000000   317.250000     3.000000    -1.000000     0.000000   \n",
       "max      88.000000  3643.000000    35.000000    21.000000     6.000000   \n",
       "\n",
       "       emp.var.rate  cons.price.idx  cons.conf.idx    euribor3m  nr.employed  \n",
       "count   4116.000000     4117.000000    4117.000000  4117.000000  4118.000000  \n",
       "mean       0.084694       93.579540     -40.486358     4.858993  5166.498057  \n",
       "std        1.563361        0.579442       4.639840    79.432456    73.669363  \n",
       "min       -3.400000       92.201000     -50.800000     0.635000  4963.600000  \n",
       "25%       -1.800000       93.075000     -42.700000     1.334000  5099.100000  \n",
       "50%        1.100000       93.749000     -41.800000     4.857000  5191.000000  \n",
       "75%        1.400000       93.994000     -36.400000     4.961000  5228.100000  \n",
       "max        1.400000       94.767000       1.266000  5099.100000  5228.100000  "
      ]
     },
     "execution_count": 34,
     "metadata": {},
     "output_type": "execute_result"
    }
   ],
   "source": [
    "numeric_data.describe()"
   ]
  },
  {
   "cell_type": "markdown",
   "metadata": {},
   "source": [
    "### Balans output varijable (da vidimo koliko su klase balansirane)"
   ]
  },
  {
   "cell_type": "code",
   "execution_count": 36,
   "metadata": {},
   "outputs": [
    {
     "data": {
      "text/plain": [
       "0.0    0.890265\n",
       "1.0    0.109493\n",
       "Name: y, dtype: float64"
      ]
     },
     "execution_count": 36,
     "metadata": {},
     "output_type": "execute_result"
    }
   ],
   "source": [
    "label.value_counts() / len(label)"
   ]
  },
  {
   "cell_type": "markdown",
   "metadata": {},
   "source": [
    "### Provera nedostajucih vrednosti "
   ]
  },
  {
   "cell_type": "markdown",
   "metadata": {},
   "source": [
    "#### Kategoricki podaci i njihove nedostajuce vrednosti"
   ]
  },
  {
   "cell_type": "code",
   "execution_count": 44,
   "metadata": {},
   "outputs": [
    {
     "name": "stdout",
     "output_type": "stream",
     "text": [
      "==============   Any null value   ================\n",
      "job            False\n",
      "marital        False\n",
      "education      False\n",
      "default        False\n",
      "housing        False\n",
      "loan           False\n",
      "contact        False\n",
      "month          False\n",
      "day_of_week    False\n",
      "poutcome       False\n",
      "dtype: bool\n",
      "==============   Summation   ================\n",
      "job            0\n",
      "marital        0\n",
      "education      0\n",
      "default        0\n",
      "housing        0\n",
      "loan           0\n",
      "contact        0\n",
      "month          0\n",
      "day_of_week    0\n",
      "poutcome       0\n",
      "dtype: int64\n"
     ]
    }
   ],
   "source": [
    "print('==============   Any null value   ================')\n",
    "print(categoric_data.isnull().any())\n",
    "print('==============   Summation   ================')\n",
    "print(categoric_data.isnull().sum())"
   ]
  },
  {
   "cell_type": "markdown",
   "metadata": {},
   "source": [
    "#### Numericki podaci i njihove nedostajuce vrednosti "
   ]
  },
  {
   "cell_type": "code",
   "execution_count": 45,
   "metadata": {},
   "outputs": [
    {
     "name": "stdout",
     "output_type": "stream",
     "text": [
      "==============   Any null value   ================\n",
      "age               False\n",
      "duration           True\n",
      "campaign           True\n",
      "pdays             False\n",
      "previous           True\n",
      "emp.var.rate       True\n",
      "cons.price.idx     True\n",
      "cons.conf.idx      True\n",
      "euribor3m          True\n",
      "nr.employed        True\n",
      "dtype: bool\n",
      "==============   Summation   ================\n",
      "age               0\n",
      "duration          3\n",
      "campaign          5\n",
      "pdays             0\n",
      "previous          2\n",
      "emp.var.rate      3\n",
      "cons.price.idx    2\n",
      "cons.conf.idx     2\n",
      "euribor3m         2\n",
      "nr.employed       1\n",
      "dtype: int64\n"
     ]
    }
   ],
   "source": [
    "print('==============   Any null value   ================')\n",
    "print(numeric_data.isnull().any())\n",
    "print('==============   Summation   ================')\n",
    "print(numeric_data.isnull().sum())"
   ]
  },
  {
   "cell_type": "markdown",
   "metadata": {},
   "source": [
    "#### Output kolona, odnosno zavisna varijabla, odnosno labela i njene nedostajuce vrednosti"
   ]
  },
  {
   "cell_type": "code",
   "execution_count": 46,
   "metadata": {},
   "outputs": [
    {
     "name": "stdout",
     "output_type": "stream",
     "text": [
      "==============   Summation   ================\n",
      "1\n"
     ]
    }
   ],
   "source": [
    "print('==============   Summation   ================')\n",
    "print(label.isnull().sum())\n"
   ]
  },
  {
   "cell_type": "markdown",
   "metadata": {},
   "source": [
    "## Imputacija nedostajucih podataka"
   ]
  },
  {
   "cell_type": "markdown",
   "metadata": {},
   "source": [
    "### Imputacija output klase, zavisnog atributa (pomocu mode() funkcije)"
   ]
  },
  {
   "cell_type": "code",
   "execution_count": 48,
   "metadata": {},
   "outputs": [
    {
     "name": "stdout",
     "output_type": "stream",
     "text": [
      "==============   Summation   ================\n",
      "0\n"
     ]
    }
   ],
   "source": [
    "label = label.fillna(label.mode()[0])\n",
    "print('==============   Summation   ================')\n",
    "print(label.isnull().sum())"
   ]
  },
  {
   "cell_type": "markdown",
   "metadata": {},
   "source": [
    "### Imputacija numerickih podataka za srednjim vrednostima atributa (pomocu funkcije mean())"
   ]
  },
  {
   "cell_type": "code",
   "execution_count": 49,
   "metadata": {},
   "outputs": [
    {
     "name": "stdout",
     "output_type": "stream",
     "text": [
      "==============   Summation   ================\n",
      "age               0\n",
      "duration          0\n",
      "campaign          0\n",
      "pdays             0\n",
      "previous          0\n",
      "emp.var.rate      0\n",
      "cons.price.idx    0\n",
      "cons.conf.idx     0\n",
      "euribor3m         0\n",
      "nr.employed       0\n",
      "dtype: int64\n"
     ]
    }
   ],
   "source": [
    "numeric_data = numeric_data.fillna(numeric_data.mean())\n",
    "print('==============   Summation   ================')\n",
    "print(numeric_data.isnull().sum())"
   ]
  },
  {
   "cell_type": "markdown",
   "metadata": {},
   "source": [
    "### Imputacija kategorickih podataka (kolone koje imaju vrednosti 'unknown')\n",
    "Postoji nekoliko razlicith pristupa imputacije kategorickih podataka.\n",
    "Neke od njih cu ovde nabrojati:\n",
    "\n",
    "0. Brisanje svih redova koji sadze nedostajuce podatke\n",
    "1. Ignorisati nedostajuce podatke\n",
    "2. Napraviti model koji predvidja nedostajuce podatke\n",
    "3. Tretirati nedostajuce podatke kao jos jednu kategoriju\n",
    "4. Zameniti nedostajuce podatke sa najcescom vrednoscu pomocu funkcije mode()"
   ]
  },
  {
   "cell_type": "markdown",
   "metadata": {},
   "source": [
    "#### Prvo cemo obrisati redove koji imaju sve NaN vrednosti"
   ]
  },
  {
   "cell_type": "code",
   "execution_count": 50,
   "metadata": {},
   "outputs": [],
   "source": [
    "categoric_data = categoric_data.dropna(axis='index', how='all')\n",
    "numeric_data = numeric_data.dropna(axis='index', how='all')"
   ]
  },
  {
   "cell_type": "markdown",
   "metadata": {},
   "source": [
    "#### Provera procenata nedostajucih podataka"
   ]
  },
  {
   "cell_type": "code",
   "execution_count": 52,
   "metadata": {},
   "outputs": [
    {
     "data": {
      "text/html": [
       "<div>\n",
       "<style scoped>\n",
       "    .dataframe tbody tr th:only-of-type {\n",
       "        vertical-align: middle;\n",
       "    }\n",
       "\n",
       "    .dataframe tbody tr th {\n",
       "        vertical-align: top;\n",
       "    }\n",
       "\n",
       "    .dataframe thead th {\n",
       "        text-align: right;\n",
       "    }\n",
       "</style>\n",
       "<table border=\"1\" class=\"dataframe\">\n",
       "  <thead>\n",
       "    <tr style=\"text-align: right;\">\n",
       "      <th></th>\n",
       "      <th>UnknownPercentage</th>\n",
       "    </tr>\n",
       "  </thead>\n",
       "  <tbody>\n",
       "    <tr>\n",
       "      <th>marital</th>\n",
       "      <td>0.267055</td>\n",
       "    </tr>\n",
       "    <tr>\n",
       "      <th>education</th>\n",
       "      <td>4.05438</td>\n",
       "    </tr>\n",
       "    <tr>\n",
       "      <th>default</th>\n",
       "      <td>19.495</td>\n",
       "    </tr>\n",
       "    <tr>\n",
       "      <th>housing</th>\n",
       "      <td>2.54916</td>\n",
       "    </tr>\n",
       "    <tr>\n",
       "      <th>loan</th>\n",
       "      <td>2.54916</td>\n",
       "    </tr>\n",
       "  </tbody>\n",
       "</table>\n",
       "</div>"
      ],
      "text/plain": [
       "          UnknownPercentage\n",
       "marital            0.267055\n",
       "education           4.05438\n",
       "default              19.495\n",
       "housing             2.54916\n",
       "loan                2.54916"
      ]
     },
     "execution_count": 52,
     "metadata": {},
     "output_type": "execute_result"
    }
   ],
   "source": [
    "categorical_data_missing_values = ['marital', 'education', 'default', 'housing', 'loan']\n",
    "data_len = len(categoric_data)\n",
    "\n",
    "unknowns_categorical_data_percentages = pd.DataFrame([], columns = ['UnknownPercentage'], index = categorical_data_missing_values)\n",
    "\n",
    "for column in categorical_data_missing_values:\n",
    "\tpercentage_unknown = categoric_data[column].value_counts()['unknown'] / data_len\n",
    "\tunknowns_categorical_data_percentages.loc[column,:] = {'UnknownPercentage':percentage_unknown*100}\n",
    "\t\n",
    "unknowns_categorical_data_percentages.head()"
   ]
  },
  {
   "cell_type": "markdown",
   "metadata": {},
   "source": [
    "##### Kolona 'marital' ima jako malo unknown vrednosti, biramo strategiju da zamenimo vrednosti sa najcescom vrednoscu"
   ]
  },
  {
   "cell_type": "code",
   "execution_count": 53,
   "metadata": {},
   "outputs": [
    {
     "data": {
      "text/plain": [
       "married     2520\n",
       "single      1153\n",
       "divorced     446\n",
       "Name: marital, dtype: int64"
      ]
     },
     "execution_count": 53,
     "metadata": {},
     "output_type": "execute_result"
    }
   ],
   "source": [
    "col_marital_mode = categoric_data['marital'].mode()\n",
    "categoric_data['marital'] = categoric_data['marital'].replace('unknown', col_marital_mode.values[0])\n",
    "categoric_data['marital'].value_counts()"
   ]
  },
  {
   "cell_type": "markdown",
   "metadata": {},
   "source": [
    "##### Kolona  'Default' ce zadrzati vrednosti 'unknown' "
   ]
  },
  {
   "cell_type": "markdown",
   "metadata": {},
   "source": [
    "##### Vrednosti 'unknown' kolona 'Housing' i 'Loan' ce biti zamenjene pomocu prediktivnog algoritma"
   ]
  },
  {
   "cell_type": "code",
   "execution_count": 56,
   "metadata": {},
   "outputs": [
    {
     "name": "stdout",
     "output_type": "stream",
     "text": [
      "Housing\n",
      "yes    2280\n",
      "no     1839\n",
      "Name: housing, dtype: int64\n",
      "Loan\n",
      "no         3349\n",
      "yes         665\n",
      "unknown     105\n",
      "Name: loan, dtype: int64\n"
     ]
    }
   ],
   "source": [
    "print('Housing')\n",
    "print(categoric_data['housing'].value_counts()) # possible values yes/no/unknown\n",
    "print('Loan')\n",
    "print(categoric_data['loan'].value_counts()) # possible values yes/no/unknown"
   ]
  },
  {
   "cell_type": "markdown",
   "metadata": {},
   "source": [
    "##### Kolona housing"
   ]
  },
  {
   "cell_type": "code",
   "execution_count": 55,
   "metadata": {},
   "outputs": [
    {
     "data": {
      "text/plain": [
       "yes    2280\n",
       "no     1839\n",
       "Name: housing, dtype: int64"
      ]
     },
     "execution_count": 55,
     "metadata": {},
     "output_type": "execute_result"
    }
   ],
   "source": [
    "indexes_not_missing_housing_values = categoric_data[categoric_data['housing'] != 'unknown'].index.values # get training data indexes\n",
    "x_housing_train = numeric_data[numeric_data.index.isin(indexes_not_missing_housing_values)] # get features for training\n",
    "x_housing_test = numeric_data[~numeric_data.index.isin(indexes_not_missing_housing_values)] # get features for prediction\n",
    "Y_housing_train = categoric_data[categoric_data.index.isin(indexes_not_missing_housing_values)]['housing'].map(label_codes) # get labels for training (housing column)\n",
    "\n",
    "# Fit housing imputation \n",
    "alg_housing_imputation = LogisticRegression(random_state=0).fit(x_housing_train, Y_housing_train)\n",
    "# Predict housing imputation\n",
    "housing_predicted_imputation = alg_housing_imputation.predict(x_housing_test)\n",
    "\n",
    "# Create data frame with predicted values\n",
    "index_missing_housing = categoric_data[categoric_data['housing'] == 'unknown'].index # get indexes of missing categorical rows\n",
    "imputed_housing_missing_values = pd.DataFrame(data = housing_predicted_imputation, index = index_missing_housing, columns = ['housing']) # create data frame for new imputed values \n",
    "imputed_housing_missing_values['housing'] = imputed_housing_missing_values['housing'].map(label_codes_inverse) # map inverse to original data format yes/no\n",
    "\n",
    "# Impute predicted data into original dataset\n",
    "categoric_data.loc[imputed_housing_missing_values.index.values, 'housing'] = imputed_housing_missing_values.loc[:,'housing'] # impute to original data set\n",
    "\n",
    "# Check imputation results\n",
    "categoric_data['housing'].value_counts()"
   ]
  },
  {
   "cell_type": "markdown",
   "metadata": {},
   "source": [
    "##### Kolona loan"
   ]
  },
  {
   "cell_type": "code",
   "execution_count": 57,
   "metadata": {},
   "outputs": [
    {
     "data": {
      "text/plain": [
       "no     3454\n",
       "yes     665\n",
       "Name: loan, dtype: int64"
      ]
     },
     "execution_count": 57,
     "metadata": {},
     "output_type": "execute_result"
    }
   ],
   "source": [
    "# Loan imputation section\n",
    "indexes_not_missing_loan_values = categoric_data[categoric_data['loan'] != 'unknown'].index.values\n",
    "x_loan_train = numeric_data[numeric_data.index.isin(indexes_not_missing_loan_values)]\n",
    "x_loan_test = numeric_data[~numeric_data.index.isin(indexes_not_missing_loan_values)]\n",
    "Y_loan_train = categoric_data[categoric_data.index.isin(indexes_not_missing_loan_values)]['loan'].map(label_codes)\n",
    "\n",
    "# Fit loan imputation\n",
    "alg_loan_imputation = LogisticRegression(random_state=0).fit(x_loan_train, Y_loan_train)\n",
    "\n",
    "# Predict loan imputation\n",
    "loan_predicted_imputation = alg_loan_imputation.predict(x_loan_test);\n",
    "\n",
    "# Create new data frame with predicted values\n",
    "index_missing_loan = categoric_data[categoric_data['loan'] == 'unknown'].index \n",
    "imputed_loan_missing_values = pd.DataFrame(data = loan_predicted_imputation, index = index_missing_loan, columns = ['loan'])\n",
    "imputed_loan_missing_values['loan'] = imputed_loan_missing_values['loan'].map(label_codes_inverse)\n",
    "\n",
    "# Impute predicted data into original dataset\n",
    "categoric_data.loc[imputed_loan_missing_values.index.values, 'loan'] = imputed_loan_missing_values.loc[:,'loan']\n",
    "\n",
    "# Check imputation results \n",
    "categoric_data['loan'].value_counts()"
   ]
  },
  {
   "cell_type": "markdown",
   "metadata": {},
   "source": [
    "##### Kolona education tretiracemo podatke kao da klijent namerno nije hteo da da podatke i necemo menjati vrednosti MAR"
   ]
  },
  {
   "cell_type": "markdown",
   "metadata": {},
   "source": [
    "##### Distribucija kolone AGE"
   ]
  },
  {
   "cell_type": "code",
   "execution_count": 58,
   "metadata": {},
   "outputs": [
    {
     "name": "stderr",
     "output_type": "stream",
     "text": [
      "C:\\ProgramData\\Anaconda3\\lib\\site-packages\\scipy\\stats\\stats.py:1713: FutureWarning: Using a non-tuple sequence for multidimensional indexing is deprecated; use `arr[tuple(seq)]` instead of `arr[seq]`. In the future this will be interpreted as an array index, `arr[np.array(seq)]`, which will result either in an error or a different result.\n",
      "  return np.add.reduce(sorted[indexer] * weights, axis=axis) / sumval\n"
     ]
    },
    {
     "data": {
      "image/png": "[encoded data removed]",
      "text/plain": [
       "<Figure size 640x480 with 1 Axes>"
      ]
     },
     "metadata": {},
     "output_type": "display_data"
    }
   ],
   "source": [
    "sns.distplot(numeric_data['age']);"
   ]
  },
  {
   "cell_type": "markdown",
   "metadata": {},
   "source": [
    "##### Distribucija kolone duration"
   ]
  },
  {
   "cell_type": "code",
   "execution_count": 59,
   "metadata": {},
   "outputs": [
    {
     "data": {
      "image/png": "[encoded data removed]",
      "text/plain": [
       "<Figure size 640x480 with 1 Axes>"
      ]
     },
     "metadata": {},
     "output_type": "display_data"
    }
   ],
   "source": [
    "sns.distplot(numeric_data['duration']);"
   ]
  },
  {
   "cell_type": "markdown",
   "metadata": {},
   "source": [
    "##### Distribucija kolone campaign"
   ]
  },
  {
   "cell_type": "code",
   "execution_count": 60,
   "metadata": {},
   "outputs": [
    {
     "data": {
      "image/png": "[encoded data removed]",
      "text/plain": [
       "<Figure size 640x480 with 1 Axes>"
      ]
     },
     "metadata": {},
     "output_type": "display_data"
    }
   ],
   "source": [
    "sns.distplot(numeric_data['campaign']);"
   ]
  },
  {
   "cell_type": "markdown",
   "metadata": {},
   "source": [
    "##### Distribucija kolone emp.var.rate"
   ]
  },
  {
   "cell_type": "code",
   "execution_count": 61,
   "metadata": {},
   "outputs": [
    {
     "data": {
      "text/plain": [
       "<matplotlib.axes._subplots.AxesSubplot at 0x1fe254dd518>"
      ]
     },
     "execution_count": 61,
     "metadata": {},
     "output_type": "execute_result"
    },
    {
     "data": {
      "image/png": "[encoded data removed]",
      "text/plain": [
       "<Figure size 640x480 with 1 Axes>"
      ]
     },
     "metadata": {},
     "output_type": "display_data"
    }
   ],
   "source": [
    "sns.distplot(numeric_data['emp.var.rate'])"
   ]
  },
  {
   "cell_type": "markdown",
   "metadata": {},
   "source": [
    "# 3. Pripremiti skup podataka tako da bude pogodan za prediktivno modelovanje"
   ]
  },
  {
   "cell_type": "code",
   "execution_count": null,
   "metadata": {},
   "outputs": [],
   "source": []
  },
  {
   "cell_type": "code",
   "execution_count": null,
   "metadata": {},
   "outputs": [],
   "source": []
  },
  {
   "cell_type": "code",
   "execution_count": null,
   "metadata": {},
   "outputs": [],
   "source": []
  },
  {
   "cell_type": "code",
   "execution_count": null,
   "metadata": {},
   "outputs": [],
   "source": []
  },
  {
   "cell_type": "code",
   "execution_count": null,
   "metadata": {},
   "outputs": [],
   "source": []
  },
  {
   "cell_type": "code",
   "execution_count": null,
   "metadata": {},
   "outputs": [],
   "source": []
  },
  {
   "cell_type": "code",
   "execution_count": null,
   "metadata": {},
   "outputs": [],
   "source": []
  },
  {
   "cell_type": "code",
   "execution_count": null,
   "metadata": {},
   "outputs": [],
   "source": []
  },
  {
   "cell_type": "code",
   "execution_count": null,
   "metadata": {},
   "outputs": [],
   "source": []
  },
  {
   "cell_type": "code",
   "execution_count": null,
   "metadata": {},
   "outputs": [],
   "source": []
  },
  {
   "cell_type": "code",
   "execution_count": null,
   "metadata": {},
   "outputs": [],
   "source": []
  },
  {
   "cell_type": "code",
   "execution_count": null,
   "metadata": {},
   "outputs": [],
   "source": []
  },
  {
   "cell_type": "code",
   "execution_count": null,
   "metadata": {},
   "outputs": [],
   "source": []
  },
  {
   "cell_type": "code",
   "execution_count": null,
   "metadata": {},
   "outputs": [],
   "source": []
  },
  {
   "cell_type": "code",
   "execution_count": null,
   "metadata": {},
   "outputs": [],
   "source": []
  },
  {
   "cell_type": "code",
   "execution_count": null,
   "metadata": {},
   "outputs": [],
   "source": []
  },
  {
   "cell_type": "code",
   "execution_count": null,
   "metadata": {},
   "outputs": [],
   "source": []
  },
  {
   "cell_type": "code",
   "execution_count": null,
   "metadata": {},
   "outputs": [],
   "source": []
  },
  {
   "cell_type": "code",
   "execution_count": null,
   "metadata": {},
   "outputs": [],
   "source": []
  },
  {
   "cell_type": "code",
   "execution_count": null,
   "metadata": {},
   "outputs": [],
   "source": []
  },
  {
   "cell_type": "code",
   "execution_count": null,
   "metadata": {},
   "outputs": [],
   "source": []
  },
  {
   "cell_type": "code",
   "execution_count": null,
   "metadata": {},
   "outputs": [],
   "source": []
  },
  {
   "cell_type": "code",
   "execution_count": null,
   "metadata": {},
   "outputs": [],
   "source": []
  },
  {
   "cell_type": "code",
   "execution_count": null,
   "metadata": {},
   "outputs": [],
   "source": []
  },
  {
   "cell_type": "code",
   "execution_count": null,
   "metadata": {},
   "outputs": [],
   "source": []
  },
  {
   "cell_type": "code",
   "execution_count": null,
   "metadata": {},
   "outputs": [],
   "source": []
  }
 ],
 "metadata": {
  "kernelspec": {
   "display_name": "Python 3",
   "language": "python",
   "name": "python3"
  },
  "language_info": {
   "codemirror_mode": {
    "name": "ipython",
    "version": 3
   },
   "file_extension": ".py",
   "mimetype": "text/x-python",
   "name": "python",
   "nbconvert_exporter": "python",
   "pygments_lexer": "ipython3",
   "version": "3.7.1"
  }
 },
 "nbformat": 4,
 "nbformat_minor": 2
}
